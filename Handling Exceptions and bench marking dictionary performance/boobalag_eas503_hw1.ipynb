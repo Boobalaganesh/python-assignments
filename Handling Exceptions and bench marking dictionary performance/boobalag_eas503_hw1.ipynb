{
 "cells": [
  {
   "cell_type": "markdown",
   "metadata": {},
   "source": [
    "## EAS 503 Homework 1 Submission\n",
    "Name - Boobalaganesh Ezhilan\n",
    "\n",
    "**Make sure that you rename the notebook file to *replacewithubitname*_eas503_hw1.ipynb**\n",
    "\n",
    "\n",
    "### Submission Details\n",
    "* **Due Date** - September 25, 2018 by 11:59 PM EST. All assignments have to be submitted using UBLearns.\n",
    "* **Number of Problems** - 4\n",
    "* **Maximum points** - 50\n",
    "* **Collaboration policy**\n",
    " - Every student has to submit individual homeworks\n",
    " - Any collaboration, in the form of discussion, with other members of the class is permitted, as long as the names of the collaborating members are explicitly stated on top of the submitted homework.\n",
    " - Any overlap with another submission or material from Internet will be awarded an F.\n",
    "* **Late submission policy** - _No late submissions allowed_\n",
    "* **Submission Format** - Enter code for each problem in the appropriate cell below. You may use multiple cells for a single problem to improve readability.\n",
    "* **Testing Protocol** - To grade, we will simply execute your notebook from command line using the following command:\n",
    "```shell\n",
    "jupyter nbconvert --execute <notebook>\n",
    "```\n",
    "Please make sure that your notebook produces the desired output with the above command, before submitting."
   ]
  },
  {
   "cell_type": "markdown",
   "metadata": {},
   "source": [
    "### Problem 1 - Testing for  Fibonacci Number (10 Points)\n",
    "Develop functions to handle [Fibonacci numbers](http://mathworld.wolfram.com/FibonacciNumber.html). Try to design the quickest possible algorithm and record the time taken for the code to run.\n",
    "\n",
    "Test if a number belongs to the Fibonacci series, using `if-else` conditions. The logic of testing if a number, $n$, belongs to the Fibonacci series is: if one or both of $(5*n^2 + 4)$ or $(5*n^2 – 4)$ is a perfect square.\n",
    "\n",
    "Here is what you need to do:\n",
    "1. You will need to implement the function `fibonacciGenerator`, which takes no inputs. The function should return a Python `list` of length 25, with first 25 Fibonacci numbers.\n",
    "2. You will need to define a function `fibonacciTester`, which takes a single number as input, and returns `true` if the number belongs to the Fibonacci series, and `false` otherwise. "
   ]
  },
  {
   "cell_type": "code",
   "execution_count": 3,
   "metadata": {},
   "outputs": [
    {
     "name": "stdout",
     "output_type": "stream",
     "text": [
      "The fibonacci Number for first 25 numbers is\n",
      "[[0, 1, 1, 2, 3, 5, 8, 13, 21, 34, 55, 89, 144, 233, 377, 610, 987, 1597, 2584, 4181, 6765, 10946, 17711, 28657, 46368]]\n",
      "The code took 0 seconds.\n"
     ]
    }
   ],
   "source": [
    "def fibonacciGenerator():\n",
    "    #importing the package required for taking Square root\n",
    "    from math import sqrt\n",
    "    \n",
    "    #Initializing list\n",
    "    fibNumList = []\n",
    "    \n",
    "    regFibList=0\n",
    "    # using while loop for iteration.\n",
    "    while(regFibList<25):\n",
    "        \n",
    "        #fibinacci sequence can be expressed in Formula\n",
    "        # F(n) = ((1+√5)/2 - (1-√5)/2)/√5\n",
    "        A = (1+sqrt(5))/2\n",
    "        B = (1-sqrt(5))/2\n",
    "        \n",
    "        #substituting the Values of A and B in the formula\n",
    "        genFibNumber = ((A**regFibList)-(B**regFibList))/sqrt(5)\n",
    "        \n",
    "        # Generated fibonacci number rounded to nearest integer\n",
    "        fibNumList.append(round(genFibNumber))\n",
    "        \n",
    "        #List is incremented\n",
    "        regFibList=regFibList+1\n",
    "        \n",
    "    #returning the generated fibonacci List    \n",
    "    return [fibNumList];\n",
    "\n",
    "import time\n",
    "st = time.time()\n",
    "l = fibonacciGenerator()\n",
    "en = time.time()\n",
    "print(\"The fibonacci Number for first 25 numbers is\")\n",
    "print(l)\n",
    "print(\"The code took %d seconds.\"%(en - st))"
   ]
  },
  {
   "cell_type": "code",
   "execution_count": 4,
   "metadata": {},
   "outputs": [
    {
     "name": "stdout",
     "output_type": "stream",
     "text": [
      "1 True\n",
      "2 True\n",
      "3 True\n",
      "4 False\n",
      "5 True\n",
      "6 False\n",
      "7 False\n",
      "8 True\n",
      "9 False\n",
      "10 False\n",
      "11 False\n",
      "12 False\n",
      "13 True\n",
      "14 False\n",
      "15 False\n",
      "16 False\n",
      "17 False\n",
      "18 False\n",
      "19 False\n",
      "20 False\n",
      "The code took 0 seconds.\n"
     ]
    }
   ],
   "source": [
    "def fibonacciTester(n):\n",
    "    #importing math package for finding square root                \n",
    "    from math import sqrt\n",
    "    \n",
    "    #storing formula into the variable\n",
    "    firstSqr = ((5*n**2)+4)\n",
    "    \n",
    "    #storing formula into the variable\n",
    "    secSqr = ((5*n**2)-4)\n",
    "                    \n",
    "    #checking perfect square condition\n",
    "    if(sqrt(firstSqr)-int(sqrt(firstSqr)) and (sqrt(secSqr) - int(sqrt(secSqr)))):\n",
    "        return False\n",
    "    else:\n",
    "        return True\n",
    "    \n",
    "    \n",
    "# Function Calling \n",
    "import time\n",
    "st = time.time()\n",
    "for i in range(1,21):\n",
    "    v = fibonacciTester(i)\n",
    "    print(i,v)\n",
    "en = time.time()\n",
    "print(\"The code took %d seconds.\"%(en - st))"
   ]
  },
  {
   "cell_type": "markdown",
   "metadata": {},
   "source": [
    "### Problem 2 - Handling Exceptions (10 Points)\n",
    "In this problem you will read from a text file (**data_p2.txt**) included in the assignment. Please download it and store it in the same directory as this notebook. The code for reading data from the file is given below. You need to store the data and perform a simple mathematical operation on each data point. Each line is _supposed_ to contain a floating point number. But what you will observe is that some lines might have erroneous entries. You need to ignore those lines (Hint: Use `Exception` handling). \n",
    "\n",
    "The idea is to implement a function, `computeMedian()`, which reads in a file and computes the median of the numbers and returns the output. You may use the inbuilt function `sort` when computing the median.\n",
    "\n",
    "_DO NOT USE ANY INBUILT OR OTHER FUNCTION TO DIRECTLY COMPUTE MEDIAN_"
   ]
  },
  {
   "cell_type": "code",
   "execution_count": null,
   "metadata": {},
   "outputs": [],
   "source": [
    "# Reading from a file. The following code just reads in every line in a text file without doing anything with it.\n",
    "# You can use the code in your solution. Do not call this function in your implementation.\n",
    "def dummyFileReader():\n",
    "    with open('data_p2.txt','r') as f: #we open the file in 'read' mode. The 'with' clause is similar to 'finally' clause\n",
    "        for line in f: #iterate over the file line by line\n",
    "            s = line.strip() #strip() removes the endline character at the end of the line. Line is of type 'str'"
   ]
  },
  {
   "cell_type": "code",
   "execution_count": 1,
   "metadata": {},
   "outputs": [
    {
     "name": "stdout",
     "output_type": "stream",
     "text": [
      "The Median Value for data_p2 .txt file is : 0.499675\n"
     ]
    }
   ],
   "source": [
    "def computeMedian():\n",
    "    # Created the List to append the float numbers\n",
    "    floatNumberList = [];\n",
    "    with open('data_p2.txt','r') as f: #we open the file in 'read' mode. The 'with' clause is similar to 'finally' clause\n",
    "        for line in f: #iterate over the file line by line\n",
    "            s = line.strip() \n",
    "            #Using try exception block to ignore the rows which are other than Float Numbers\n",
    "            try:\n",
    "                floatNumberList.append(float(s));\n",
    "            except:\n",
    "                pass\n",
    "    # Performing Sorting in the List\n",
    "    floatNumberList.sort()\n",
    "    \n",
    "    #Checking the length of the list if it is even then I will return the middle number otherwise average of middle two elements\n",
    "    if ((len(floatNumberList))%2) != 0:\n",
    "        return floatNumberList[int(len(floatNumberList)/2)] \n",
    "    else:\n",
    "        return ((floatNumberList[int((len(floatNumberList)-1)/2)])+(floatNumberList[int((len(floatNumberList))/2)]))/2\n",
    "\n",
    "print(\"The Median Value for data_p2 .txt file is :\" ,computeMedian())"
   ]
  },
  {
   "cell_type": "markdown",
   "metadata": {},
   "source": [
    "### Problem 3 - Benchmarking Dictionary Performance (10 Points)\n",
    "We want to check the peformance of the Python inbuilt `del` routine for dropping elements from a dictionary. The question that we want answer for is: \n",
    "_Does the time required to delete an element from a Python dictionary depend on the size of the dictionary and on the location of the target element?_\n",
    "\n",
    "In each step of the experiment do the following: \n",
    "- Create a dictionary of integers from 1 to N, with your own desired keys. \n",
    "- Within a loop, delete the $i^{th}$ element. Measure the time taken to delete the element (Hint: use the `time` package in Python).\n",
    "\n",
    "Conduct the above experiment for $N = 1,000,000$ and $i$ ranging from $1$ to $1,000,000$ in steps of $10,000$. Make sure that you are recreating the Python dictionary every time. Save the times in a list (let us name it `timeMillion`).\n",
    "\n",
    "Repeat the above experiment, but set $N = 10,000,000$. This time, vary $i$ from $1$ to $10,000,000$ in steps of $100,000$. Save the times for this experiment in another list, say, `time10Million`.\n",
    "\n",
    "Plot the two lists using the `matplotlib.pyplot` package. See below for a sample code. You can plot both lists in the same chart to compare.\n",
    "\n",
    "Using the plots, answer the following (create a markup cell after your code cell(s) and enter your responses):\n",
    "1. Does the cost of deleting an element depend on the dictionary size?\n",
    "2. Does the cost of deleting an element depend on the location of the deleted element?\n",
    "\n"
   ]
  },
  {
   "cell_type": "code",
   "execution_count": null,
   "metadata": {},
   "outputs": [],
   "source": [
    "# This cell is only for demonstration purposes, you can reuse parts of this code to create your own plots\n",
    "# Using matplotlib for plotting\n",
    "import matplotlib.pyplot as plt\n",
    "%matplotlib inline \n",
    "# above line is needed to make sure that the plots are displayed in the notebook.\n",
    "\n",
    "#generate some dummy data\n",
    "x = list(range(0, 20)) # generate a list\n",
    "y = [x1**2+2*x1 for x1 in x] # create a new list using the original list. Note the Pythonic inline creation of lists.\n",
    "y1 = [x1**2.3 for x1 in x]\n",
    "plt.plot(x,y)\n",
    "plt.plot(x,y1)"
   ]
  },
  {
   "cell_type": "code",
   "execution_count": 7,
   "metadata": {},
   "outputs": [
    {
     "data": {
      "text/plain": [
       "<matplotlib.legend.Legend at 0x21543672f60>"
      ]
     },
     "execution_count": 7,
     "metadata": {},
     "output_type": "execute_result"
    },
    {
     "data": {
      "image/png": "[encoded data removed]",
      "text/plain": [
       "<Figure size 432x288 with 1 Axes>"
      ]
     },
     "metadata": {},
     "output_type": "display_data"
    }
   ],
   "source": [
    "# Enter your solution hereimport timeit\n",
    "#Creating the dictionary for N = 1,000,000\n",
    "millionDict=dict();\n",
    "def millionDictionary():\n",
    "    for dictMillion in range(1,1000001):\n",
    "        millionDict[dictMillion]=dictMillion;\n",
    "        \n",
    "#Creating the dictionary for N = 10,000,000        \n",
    "tenmillionDict = dict();\n",
    "def tenMillionDictionary():\n",
    "    for dictTenMillion in range(1,10000001):\n",
    "        tenmillionDict[dictTenMillion]=dictTenMillion; \n",
    "\n",
    "#Deleting the every 10000th Element in the dictionary      \n",
    "import time;\n",
    "millionDictionary();\n",
    "timeMillionList = [];\n",
    "for i in range(1,1000001,10001):\n",
    "    startTime = time.time();\n",
    "    del millionDict[i];\n",
    "    endTime = time.time();\n",
    "    millionDictionary();\n",
    "    timeMillionList.append(endTime-startTime)\n",
    "\n",
    "#Deleting the every 100000th Element in the dictionary\n",
    "tenMillionDictionary();\n",
    "tenTimeMillionList = [];\n",
    "for j in range(1,10000001,100001):\n",
    "    startTime = time.time(); \n",
    "    del tenmillionDict[j];\n",
    "    endTime = time.time();\n",
    "    tenMillionDictionary();\n",
    "    tenTimeMillionList.append(endTime-startTime)\n",
    "\n",
    "import matplotlib.pyplot as plt\n",
    "%matplotlib inline \n",
    "# above line is needed to make sure that the plots are displayed in the notebook.\n",
    "\n",
    "#generate some dummy data\n",
    "x = list(range(1,101)) # generate a list\n",
    "plt.plot(x,timeMillionList,'b',label = 'timeMillion')\n",
    "plt.plot(x,tenTimeMillionList,'r',label = 'timeTenMillion')\n",
    "plt.ylabel(\"Time\")\n",
    "plt.xlabel(\"Deletion on iteration\")\n",
    "plt.legend(loc='upper center',shadow = True,fontsize = 'small' )"
   ]
  },
  {
   "cell_type": "markdown",
   "metadata": {},
   "source": [
    "## 1.Does the cost of deleting an element depend on the dictionary size?\n",
    "## 2.Does the cost of deleting an element depend on the location of the deleted element?\n",
    "\n",
    "The Dictionaries in python are implemented as the hash tables.For such hash table average time complexity is **O(1)**.\n",
    "unlike list where the time complexity of deletion depends location of the element for example, if we need to delete the **100th** element in the list of **1000** elements.Initially it will delete the element in the corresponding index and later it will append the remaining list in the place of the deleted one. So the time complexity of the list is **O(n)**,In Dictionaries does not have any order of storing key-value pair so deleting an element on a particular location does not have any effect like even if delete a particular key-value pair it won't be  appending the remaining in place of deleted one since the dictionaries are unordered Data structure so the time Complexity is O(1) for the **del** operator .\n",
    "\n",
    "Based upon the graph the red line for Million dictionary and blue line for TenMillion dictionary more or less align with each other ,so the time complexity for the deletion is independent of the Size and location of the elements.The some spikes in the graphs can be due to round off error in the intercept or may be due to noises\n",
    "\n",
    "\n",
    "\n",
    "\n",
    "\n",
    "\n",
    "\n"
   ]
  },
  {
   "cell_type": "markdown",
   "metadata": {},
   "source": [
    "## Problem 4 - The Two Envelopes Problem (20 Points)\n",
    "The Two Envelopes problem is an interesting decision theory problem.\n",
    "\n",
    "> Consider that you are given two indistinguishable envelopes, each containing money, one contains twice as much as the other. You may pick one envelope and keep the money it contains. Having chosen an envelope at will, but before inspecting it, you are given the chance to switch envelopes. Should you switch?\n",
    "\n",
    "> The game is this: _stick_ or _switch_; It seems obvious that there is no point in switching envelopes as the situation is symmetric. However, because you stand to gain twice as much money if you switch while risking only a loss of half of what you currently have, it is possible to argue that it is more beneficial to switch.The problem is to show what is wrong with this argument.\n",
    "\n",
    "**Two Envelopes problem**: Implement a function, called `simulateProblem()`, that does the game simulation for the two envelopes problem. Run the simulation 1000 times to figure out the empirical (observed) probability of gaining more money when switching and gaining more money when sticking to the original choice. Each simulation operates as follows:\n",
    "1. First, randomly pick an envelopes configuration out of the two possible configurations, $(A,2A)$ or $(2A,A)$. In the first configuration, the second envelope has twice the money and in the second configuration, the first envelope has twice the money.\n",
    "2. Next, randomly pick one of the two envelopes. \n",
    "3. Finally, randomly choose to either stick or switch. The program checks if you won (the envelope that picked has more money) or not (the envelope that picked has less money). In case of winning, record if the winning was because of _sticking_ or _switching_.\n",
    "\n",
    "You can perform the _random_ choice as follows, using the `np.random.randint()` method.\n",
    "```python\n",
    "import numpy as np\n",
    "print(np.random.randint(2))\n",
    "```\n",
    "The `simulateProblem()` function takes no arguments and returns two values, first is a boolean output which is `True` if you win and `False` if you lose. In case of a win, the second output is `True` if the win was due to _sticking_ and `False` if the win was due to _switching_.\n",
    "\n",
    "Once the method `simulateProblem()` that does the above steps and returns _sticking_,or _switching_, depending on the win/loss scenario, run the method 1000 times and count the number of times the win was due to _sticking_ to the pick in Step 2, and number of times the win was due to _switching_ the envelope."
   ]
  },
  {
   "cell_type": "code",
   "execution_count": null,
   "metadata": {},
   "outputs": [],
   "source": [
    "def simulateProblem():\n",
    "    import numpy as np\n",
    "    firstRandom = np.random.randint(2);\n",
    "    tupple1 = (0,1)\n",
    "    tupple2 = (1,0)\n",
    "    if(firstRandom):\n",
    "        secondRandom = tupple1[np.random.randint(2)];\n",
    "        thirdRandom = tupple1[np.random.randint(2)];\n",
    "        if(secondRandom == 0 and thirdRandom == 0):\n",
    "            return False,False\n",
    "        if(secondRandom == 0 and thirdRandom == 1):\n",
    "            return True,True\n",
    "        if(secondRandom == 1 and thirdRandom == 0):\n",
    "            return True,False\n",
    "        if(secondRandom == 1 and thirdRandom == 1):\n",
    "            return False,True\n",
    "    else:\n",
    "        fourthRandom = tupple2[np.random.randint(2)];\n",
    "        fifthRandom = tupple2[np.random.randint(2)];\n",
    "        if(fourthRandom == 0 and fifthRandom == 0):\n",
    "            return False,False\n",
    "        if(fourthRandom == 0 and fifthRandom == 1):\n",
    "            return True,True\n",
    "        if(fourthRandom == 1 and fifthRandom == 0):\n",
    "            return True,False\n",
    "        if(fourthRandom == 1 and fifthRandom == 1):\n",
    "            return False,True   \n",
    "        \n",
    "        \n",
    "switchcounter = 0\n",
    "stickcounter = 0\n",
    "winSwitch = 0\n",
    "winStick = 0\n",
    "successlist = switchlist = []\n",
    "for i in range(1000):\n",
    "    wl,ss = simulateProblem()\n",
    "    if(ss):\n",
    "        if(wl):\n",
    "            winSwitch = winSwitch + 1\n",
    "            switchcounter = switchcounter + 1    \n",
    "    else:\n",
    "        if(wl): winStick = winStick + 1\n",
    "        stickcounter = stickcounter + 1 \n",
    "        \n",
    "print(\"Number of wins due to Switching :\" , winSwitch) \n",
    "print(\"Number of wins due to Sticking :\",winStick)\n",
    "print(\"Probability of winning due to Switching :\" , (winSwitch) / 1000)\n",
    "print(\"Probability of winning due to Switching :\" ,(winStick) / 1000)"
   ]
  },
  {
   "cell_type": "markdown",
   "metadata": {},
   "source": [
    "### Which is better - sticking or switching?\n",
    "The probability of winning(**P**) and losing(**1-p**) is given by **1/2** and **1/2**.Now the sample space will become ** 1/2**. Then the\n",
    "winning due to sticking and switching will be around **1/4** and **1/4**.\n",
    "Based upon the simulation I got, The number of win due to sticking and switching are approximately same.In this case of only two envelopes sticking and switching does have any effect of probability of winning.If Incase of three envelope switching will have an edge over the sticking since the probability will become 1/3 So I would always go for the switching whatever the envelope I choose where my probability of winning we be incresing.So we can say in this case of two envelope there is the **50:50** chance of getting **2A** and **A**.So it doesn't matter if we switch or Stick to the envelope number of wins would be the same incase of the two results based upon the results we got from the simulation"
   ]
  }
 ],
 "metadata": {
  "kernelspec": {
   "display_name": "Python 3",
   "language": "python",
   "name": "python3"
  },
  "language_info": {
   "codemirror_mode": {
    "name": "ipython",
    "version": 3
   },
   "file_extension": ".py",
   "mimetype": "text/x-python",
   "name": "python",
   "nbconvert_exporter": "python",
   "pygments_lexer": "ipython3",
   "version": "3.6.5"
  }
 },
 "nbformat": 4,
 "nbformat_minor": 2
}
